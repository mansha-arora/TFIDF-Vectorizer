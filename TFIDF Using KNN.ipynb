{
 "cells": [
  {
   "cell_type": "markdown",
   "metadata": {
    "colab_type": "text",
    "id": "h9464I-uxLiw"
   },
   "source": [
    "# Assignment"
   ]
  },
  {
   "cell_type": "markdown",
   "metadata": {
    "colab_type": "text",
    "id": "IvLvmewlxLix"
   },
   "source": [
    "<font face='georgia'>\n",
    "    \n",
    "   <h4><strong>What does tf-idf mean?</strong></h4>\n",
    "\n",
    "   <p>    \n",
    "Tf-idf stands for <em>term frequency-inverse document frequency</em>, and the tf-idf weight is a weight often used in information retrieval and text mining. This weight is a statistical measure used to evaluate how important a word is to a document in a collection or corpus. The importance increases proportionally to the number of times a word appears in the document but is offset by the frequency of the word in the corpus. Variations of the tf-idf weighting scheme are often used by search engines as a central tool in scoring and ranking a document's relevance given a user query.\n",
    "</p>\n",
    "    \n",
    "   <p>\n",
    "One of the simplest ranking functions is computed by summing the tf-idf for each query term; many more sophisticated ranking functions are variants of this simple model.\n",
    "</p>\n",
    "    \n",
    "   <p>\n",
    "Tf-idf can be successfully used for stop-words filtering in various subject fields including text summarization and classification.\n",
    "</p>\n",
    "    \n",
    "</font>"
   ]
  },
  {
   "cell_type": "markdown",
   "metadata": {
    "colab_type": "text",
    "id": "4XLaGFUMxLiy"
   },
   "source": [
    "<font face='georgia'>\n",
    "    <h4><strong>How to Compute:</strong></h4>\n",
    "\n",
    "Typically, the tf-idf weight is composed by two terms: the first computes the normalized Term Frequency (TF), aka. the number of times a word appears in a document, divided by the total number of words in that document; the second term is the Inverse Document Frequency (IDF), computed as the logarithm of the number of the documents in the corpus divided by the number of documents where the specific term appears.\n",
    "\n",
    " <ul>\n",
    "    <li>\n",
    "<strong>TF:</strong> Term Frequency, which measures how frequently a term occurs in a document. Since every document is different in length, it is possible that a term would appear much more times in long documents than shorter ones. Thus, the term frequency is often divided by the document length (aka. the total number of terms in the document) as a way of normalization: <br>\n",
    "\n",
    "$TF(t) = \\frac{\\text{Number of times term t appears in a document}}{\\text{Total number of terms in the document}}.$\n",
    "</li>\n",
    "<li>\n",
    "<strong>IDF:</strong> Inverse Document Frequency, which measures how important a term is. While computing TF, all terms are considered equally important. However it is known that certain terms, such as \"is\", \"of\", and \"that\", may appear a lot of times but have little importance. Thus we need to weigh down the frequent terms while scale up the rare ones, by computing the following: <br>\n",
    "\n",
    "$IDF(t) = \\log_{e}\\frac{\\text{Total  number of documents}} {\\text{Number of documents with term t in it}}.$\n",
    "for numerical stabiltiy we will be changing this formula little bit\n",
    "$IDF(t) = \\log_{e}\\frac{\\text{Total  number of documents}} {\\text{Number of documents with term t in it}+1}.$\n",
    "</li>\n",
    "</ul>\n",
    "\n",
    "<br>\n",
    "<h4><strong>Example</strong></h4>\n",
    "<p>\n",
    "\n",
    "Consider a document containing 100 words wherein the word cat appears 3 times. The term frequency (i.e., tf) for cat is then (3 / 100) = 0.03. Now, assume we have 10 million documents and the word cat appears in one thousand of these. Then, the inverse document frequency (i.e., idf) is calculated as log(10,000,000 / 1,000) = 4. Thus, the Tf-idf weight is the product of these quantities: 0.03 * 4 = 0.12.\n",
    "</p>\n",
    "</font>"
   ]
  },
  {
   "cell_type": "markdown",
   "metadata": {
    "colab_type": "text",
    "id": "dg2ooa4DxLiz"
   },
   "source": [
    "## Task-1"
   ]
  },
  {
   "cell_type": "markdown",
   "metadata": {
    "colab_type": "text",
    "id": "TAcTjhO8xLiz"
   },
   "source": [
    "<font face='georgia'>\n",
    "    <h4><strong>1. Build a TFIDF Vectorizer & compare its results with Sklearn:</strong></h4>\n",
    "\n",
    "<ul>\n",
    "    <li> As a part of this task you will be implementing TFIDF vectorizer on a collection of text documents.</li>\n",
    "    <br>\n",
    "    <li> You should compare the results of your own implementation of TFIDF vectorizer with that of sklearns implemenation TFIDF vectorizer.</li>\n",
    "    <br>\n",
    "    <li> Sklearn does few more tweaks in the implementation of its version of TFIDF vectorizer, so to replicate the exact results you would need to add following things to your custom implementation of tfidf vectorizer:\n",
    "       <ol>\n",
    "        <li> Sklearn has its vocabulary generated from idf sroted in alphabetical order</li>\n",
    "        <li> Sklearn formula of idf is different from the standard textbook formula. Here the constant <strong>\"1\"</strong> is added to the numerator and denominator of the idf as if an extra document was seen containing every term in the collection exactly once, which prevents zero divisions.\n",
    "            \n",
    " $IDF(t) = 1+\\log_{e}\\frac{1\\text{ }+\\text{ Total  number of documents in collection}} {1+\\text{Number of documents with term t in it}}.$\n",
    "        </li>\n",
    "        <li> Sklearn applies L2-normalization on its output matrix.</li>\n",
    "        <li> The final output of sklearn tfidf vectorizer is a sparse matrix.</li>\n",
    "    </ol>\n",
    "    <br>\n",
    "    <li>Steps to approach this task:\n",
    "    <ol>\n",
    "        <li> You would have to write both fit and transform methods for your custom implementation of tfidf vectorizer.</li>\n",
    "        <li> Print out the alphabetically sorted voacb after you fit your data and check if its the same as that of the feature names from sklearn tfidf vectorizer. </li>\n",
    "        <li> Print out the idf values from your implementation and check if its the same as that of sklearns tfidf vectorizer idf values. </li>\n",
    "        <li> Once you get your voacb and idf values to be same as that of sklearns implementation of tfidf vectorizer, proceed to the below steps. </li>\n",
    "        <li> Make sure the output of your implementation is a sparse matrix. Before generating the final output, you need to normalize your sparse matrix using L2 normalization. You can refer to this link https://scikit-learn.org/stable/modules/generated/sklearn.preprocessing.normalize.html </li>\n",
    "        <li> After completing the above steps, print the output of your custom implementation and compare it with sklearns implementation of tfidf vectorizer.</li>\n",
    "        <li> To check the output of a single document in your collection of documents,  you can convert the sparse matrix related only to that document into dense matrix and print it.</li>\n",
    "        </ol>\n",
    "    </li>\n",
    "    <br>\n",
    "   </ul>\n",
    "\n",
    "  <p> <font color=\"#e60000\"><strong>Note-1: </strong></font> All the necessary outputs of sklearns tfidf vectorizer have been provided as reference in this notebook, you can compare your outputs as mentioned in the above steps, with these outputs.<br>\n",
    "   <font color=\"#e60000\"><strong>Note-2: </strong></font> The output of your custom implementation and that of sklearns implementation would match only with the collection of document strings provided to you as reference in this notebook. It would not match for strings that contain capital letters or punctuations, etc, because sklearn version of tfidf vectorizer deals with such strings in a different way. To know further details about how sklearn tfidf vectorizer works with such string, you can always refer to its official documentation.<br>\n",
    "   <font color=\"#e60000\"><strong>Note-3: </strong></font> During this task, it would be helpful for you to debug the code you write with print statements wherever necessary. But when you are finally submitting the assignment, make sure your code is readable and try not to print things which are not part of this task.\n",
    "    </p>"
   ]
  },
  {
   "cell_type": "markdown",
   "metadata": {
    "colab_type": "text",
    "id": "OnV82tg1xLi0"
   },
   "source": [
    "### Corpus"
   ]
  },
  {
   "cell_type": "code",
   "execution_count": 72,
   "metadata": {
    "colab": {},
    "colab_type": "code",
    "id": "bUsYm9wjxLi1"
   },
   "outputs": [],
   "source": [
    "## SkLearn# Collection of string documents\n",
    "\n",
    "corpus = [\n",
    "     'this is the first document',\n",
    "     'this document is the second document',\n",
    "     'and this is the third one',\n",
    "     'is this the first document',\n",
    "]"
   ]
  },
  {
   "cell_type": "markdown",
   "metadata": {
    "colab_type": "text",
    "id": "eLwmFZfKxLi4"
   },
   "source": [
    "### SkLearn Implementation"
   ]
  },
  {
   "cell_type": "code",
   "execution_count": 13,
   "metadata": {
    "colab": {},
    "colab_type": "code",
    "id": "Np4dfQOkxLi4"
   },
   "outputs": [],
   "source": [
    "from sklearn.feature_extraction.text import TfidfVectorizer\n",
    "vectorizer = TfidfVectorizer()\n",
    "vectorizer.fit(corpus)\n",
    "skl_output = vectorizer.transform(corpus)"
   ]
  },
  {
   "cell_type": "code",
   "execution_count": 14,
   "metadata": {
    "colab": {},
    "colab_type": "code",
    "id": "-7Om8YpYxLi6",
    "outputId": "0a3bd0f5-4424-4400-944f-4482a80bd799"
   },
   "outputs": [
    {
     "name": "stdout",
     "output_type": "stream",
     "text": [
      "['and', 'document', 'first', 'is', 'one', 'second', 'the', 'third', 'this']\n"
     ]
    }
   ],
   "source": [
    "# sklearn feature names, they are sorted in alphabetic order by default.\n",
    "\n",
    "print(vectorizer.get_feature_names())"
   ]
  },
  {
   "cell_type": "code",
   "execution_count": 40,
   "metadata": {
    "colab": {},
    "colab_type": "code",
    "id": "dTKplK96xLi-",
    "outputId": "53722fa2-6756-4aa0-f179-37b578bb6890"
   },
   "outputs": [
    {
     "name": "stdout",
     "output_type": "stream",
     "text": [
      "[1.91629073 1.22314355 1.51082562 1.         1.91629073 1.91629073\n",
      " 1.         1.91629073 1.        ]\n"
     ]
    }
   ],
   "source": [
    "# Here we will print the sklearn tfidf vectorizer idf values after applying the fit method\n",
    "# After using the fit function on the corpus the vocab has 9 words in it, and each has its idf value.\n",
    "\n",
    "print(vectorizer.idf_)"
   ]
  },
  {
   "cell_type": "code",
   "execution_count": 16,
   "metadata": {
    "colab": {},
    "colab_type": "code",
    "id": "-CTiWHygxLjA",
    "outputId": "8d5a9cde-2c29-4afe-f7b4-1547e88dba4f"
   },
   "outputs": [
    {
     "name": "stdout",
     "output_type": "stream",
     "text": [
      "(4, 9)\n",
      "  (0, 8)\t0.38408524091481483\n",
      "  (0, 6)\t0.38408524091481483\n",
      "  (0, 3)\t0.38408524091481483\n",
      "  (0, 2)\t0.5802858236844359\n",
      "  (0, 1)\t0.46979138557992045\n",
      "  (1, 8)\t0.281088674033753\n",
      "  (1, 6)\t0.281088674033753\n",
      "  (1, 5)\t0.5386476208856763\n",
      "  (1, 3)\t0.281088674033753\n",
      "  (1, 1)\t0.6876235979836938\n",
      "  (2, 8)\t0.267103787642168\n",
      "  (2, 7)\t0.511848512707169\n",
      "  (2, 6)\t0.267103787642168\n",
      "  (2, 4)\t0.511848512707169\n",
      "  (2, 3)\t0.267103787642168\n",
      "  (2, 0)\t0.511848512707169\n",
      "  (3, 8)\t0.38408524091481483\n",
      "  (3, 6)\t0.38408524091481483\n",
      "  (3, 3)\t0.38408524091481483\n",
      "  (3, 2)\t0.5802858236844359\n",
      "  (3, 1)\t0.46979138557992045\n"
     ]
    }
   ],
   "source": [
    "# shape of sklearn tfidf vectorizer output after applying transform method.\n",
    "\n",
    "print(skl_output.shape)\n",
    "print(skl_output)"
   ]
  },
  {
   "cell_type": "code",
   "execution_count": 17,
   "metadata": {
    "colab": {},
    "colab_type": "code",
    "id": "bDKEpbA-xLjD",
    "outputId": "87dafd65-5313-443f-8c6e-1b05cc8c2543"
   },
   "outputs": [
    {
     "name": "stdout",
     "output_type": "stream",
     "text": [
      "  (0, 8)\t0.38408524091481483\n",
      "  (0, 6)\t0.38408524091481483\n",
      "  (0, 3)\t0.38408524091481483\n",
      "  (0, 2)\t0.5802858236844359\n",
      "  (0, 1)\t0.46979138557992045\n"
     ]
    }
   ],
   "source": [
    "# sklearn tfidf values for first line of the above corpus.\n",
    "# Here the output is a sparse matrix\n",
    "\n",
    "print(skl_output[0])"
   ]
  },
  {
   "cell_type": "code",
   "execution_count": 18,
   "metadata": {
    "colab": {},
    "colab_type": "code",
    "id": "3QWo34hexLjF",
    "outputId": "cdc04e08-989f-4bdc-dd7f-f1c82a9f90be"
   },
   "outputs": [
    {
     "name": "stdout",
     "output_type": "stream",
     "text": [
      "[[0.         0.46979139 0.58028582 0.38408524 0.         0.\n",
      "  0.38408524 0.         0.38408524]]\n"
     ]
    }
   ],
   "source": [
    "# sklearn tfidf values for first line of the above corpus.\n",
    "# To understand the output better, here we are converting the sparse output matrix to dense matrix and printing it.\n",
    "# Notice that this output is normalized using L2 normalization. sklearn does this by default.\n",
    "\n",
    "print(skl_output[0].toarray())"
   ]
  },
  {
   "cell_type": "markdown",
   "metadata": {
    "colab_type": "text",
    "id": "qfIwx5LzxLjI"
   },
   "source": [
    "### Your custom implementation"
   ]
  },
  {
   "cell_type": "code",
   "execution_count": 73,
   "metadata": {
    "colab": {},
    "colab_type": "code",
    "id": "HjuCcJwXxLjJ"
   },
   "outputs": [],
   "source": [
    "# Write your code here.\n",
    "# Make sure its well documented and readble with appropriate comments.\n",
    "# Compare your results with the above sklearn tfidf vectorizer\n",
    "# You are not supposed to use any other library apart from the ones given below\n",
    "\n",
    "from collections import Counter\n",
    "from tqdm import tqdm\n",
    "from scipy.sparse import csr_matrix\n",
    "import math\n",
    "import operator\n",
    "from sklearn.preprocessing import normalize\n",
    "import numpy\n"
   ]
  },
  {
   "cell_type": "code",
   "execution_count": 100,
   "metadata": {},
   "outputs": [
    {
     "name": "stdout",
     "output_type": "stream",
     "text": [
      "[1.916290731874155, 1.2231435513142097, 1.5108256237659907, 1.0, 1.916290731874155, 1.916290731874155, 1.0, 1.916290731874155, 1.0]\n",
      "{'and': 0, 'document': 1, 'first': 2, 'is': 3, 'one': 4, 'second': 5, 'the': 6, 'third': 7, 'this': 8}\n"
     ]
    }
   ],
   "source": [
    "def IDF(corpus,word):\n",
    "    count = 0\n",
    "    for row in corpus:\n",
    "        if word in row:\n",
    "            count = count+1\n",
    "    return count\n",
    "# FIT Method\n",
    "# Input : set of documents ; Output: word, dimension number pair for each word\n",
    "def fit(corpus):    \n",
    "    unique_words = set() # at first we will initialize an empty set\n",
    "    IDF_val=[]\n",
    "    # check if its list type or not\n",
    "    if isinstance(corpus, (list)):\n",
    "        for row in corpus: # for each review in the dataset\n",
    "            for word in row.split(\" \"): # for each word in the review. #split method converts a string into list of words\n",
    "                if len(word) < 2:\n",
    "                    continue\n",
    "                unique_words.add(word)\n",
    "        unique_words = sorted(list(unique_words))\n",
    "        for word in unique_words:\n",
    "            a=1+len(corpus)\n",
    "            b=1+IDF(corpus,word)\n",
    "            val = 1+math.log((a)/(b))\n",
    "            IDF_val.append(val) # Compute IDF scores for each word in list\n",
    "        print(IDF_val)\n",
    "        vocab = {j:i for i,j in enumerate(unique_words)}\n",
    "        return vocab\n",
    "    else:\n",
    "        print(\"you need to pass list of sentance\")\n",
    "vocab = fit(corpus)\n",
    "print(vocab)"
   ]
  },
  {
   "cell_type": "code",
   "execution_count": 101,
   "metadata": {},
   "outputs": [
    {
     "name": "stdout",
     "output_type": "stream",
     "text": [
      "  (0, 1)\t0.4697913855799205\n",
      "  (0, 2)\t0.580285823684436\n",
      "  (0, 3)\t0.3840852409148149\n",
      "  (0, 6)\t0.3840852409148149\n",
      "  (0, 8)\t0.3840852409148149\n",
      "  (1, 1)\t0.6876235979836937\n",
      "  (1, 3)\t0.2810886740337529\n",
      "  (1, 5)\t0.5386476208856762\n",
      "  (1, 6)\t0.2810886740337529\n",
      "  (1, 8)\t0.2810886740337529\n",
      "  (2, 0)\t0.511848512707169\n",
      "  (2, 3)\t0.267103787642168\n",
      "  (2, 4)\t0.511848512707169\n",
      "  (2, 6)\t0.267103787642168\n",
      "  (2, 7)\t0.511848512707169\n",
      "  (2, 8)\t0.267103787642168\n",
      "  (3, 1)\t0.4697913855799205\n",
      "  (3, 2)\t0.580285823684436\n",
      "  (3, 3)\t0.3840852409148149\n",
      "  (3, 6)\t0.3840852409148149\n",
      "  (3, 8)\t0.3840852409148149\n"
     ]
    }
   ],
   "source": [
    "def IDF(corpus,word):\n",
    "    count = 0\n",
    "    for row in corpus:\n",
    "        if word in row:\n",
    "            count = count+1\n",
    "    return count\n",
    "def transform(corpus,vocab):\n",
    "    rows = []\n",
    "    columns = []\n",
    "    values = []\n",
    "    tf_val = []\n",
    "    for idx, row in enumerate(corpus):\n",
    "        word_freq = dict(Counter(row.split())) \n",
    "        for word, freq in word_freq.items():\n",
    "            if len(word) < 2:\n",
    "                continue \n",
    "            col_index = vocab.get(word, -1)\n",
    "            if col_index!=-1:\n",
    "                rows.append(idx)\n",
    "                columns.append(col_index)\n",
    "                a=1+len(corpus)\n",
    "                b=1+IDF(corpus,word)\n",
    "                val = (freq/len(row.split()))*(1+math.log((a)/(b)))#TF*IDF\n",
    "                values.append(val)\n",
    "    csr = csr_matrix((values, (rows,columns)), shape = (len(corpus),len(vocab)))\n",
    "    norm = normalize(csr, norm='l2', axis=1)\n",
    "    return norm\n",
    "\n",
    "tf_idf_vect = transform(corpus,vocab)\n",
    "print(tf_idf_vect)"
   ]
  },
  {
   "cell_type": "code",
   "execution_count": 102,
   "metadata": {},
   "outputs": [
    {
     "name": "stdout",
     "output_type": "stream",
     "text": [
      "  (0, 1)\t0.4697913855799205\n",
      "  (0, 2)\t0.580285823684436\n",
      "  (0, 3)\t0.3840852409148149\n",
      "  (0, 6)\t0.3840852409148149\n",
      "  (0, 8)\t0.3840852409148149\n"
     ]
    }
   ],
   "source": [
    "print(tf_idf_vect[0])"
   ]
  },
  {
   "cell_type": "code",
   "execution_count": 104,
   "metadata": {},
   "outputs": [
    {
     "name": "stdout",
     "output_type": "stream",
     "text": [
      "[[0.         0.46979139 0.58028582 0.38408524 0.         0.\n",
      "  0.38408524 0.         0.38408524]]\n"
     ]
    }
   ],
   "source": [
    "print(tf_idf_vect[0].toarray())"
   ]
  },
  {
   "cell_type": "markdown",
   "metadata": {
    "colab_type": "text",
    "id": "MMxBmVZExLjK"
   },
   "source": [
    "## Task-2"
   ]
  },
  {
   "cell_type": "markdown",
   "metadata": {
    "colab_type": "text",
    "id": "51j_OtqAxLjL"
   },
   "source": [
    "<font face='georgia'>\n",
    "    <h4><strong>2. Implement max features functionality:</strong></h4>\n",
    "\n",
    "<ul>\n",
    "    <li> As a part of this task you have to modify your fit and transform functions so that your vocab will contain only 50 terms with top idf scores.</li>\n",
    "    <br>\n",
    "    <li>This task is similar to your previous task, just that here your vocabulary is limited to only top 50 features names based on their idf values. Basically your output will have exactly 50 columns and the number of rows will depend on the number of documents you have in your corpus.</li>\n",
    "    <br>\n",
    "    <li>Here you will be give a pickle file, with file name <strong>cleaned_strings</strong>. You would have to load the corpus from this file and use it as input to your tfidf vectorizer.</li>\n",
    "    <br>\n",
    "    <li>Steps to approach this task:\n",
    "    <ol>\n",
    "        <li> You would have to write both fit and transform methods for your custom implementation of tfidf vectorizer, just like in the previous task. Additionally, here you have to limit the number of features generated to 50 as described above.</li>\n",
    "        <li> Now sort your vocab based in descending order of idf values and print out the words in the sorted voacb after you fit your data. Here you should be getting only 50 terms in your vocab. And make sure to print idf values for each term in your vocab. </li>\n",
    "        <li> Make sure the output of your implementation is a sparse matrix. Before generating the final output, you need to normalize your sparse matrix using L2 normalization. You can refer to this link https://scikit-learn.org/stable/modules/generated/sklearn.preprocessing.normalize.html </li>\n",
    "        <li> Now check the output of a single document in your collection of documents,  you can convert the sparse matrix related only to that document into dense matrix and print it. And this dense matrix should contain 1 row and 50 columns. </li>\n",
    "        </ol>\n",
    "    </li>\n",
    "    <br>\n",
    "   </ul>"
   ]
  },
  {
   "cell_type": "code",
   "execution_count": 119,
   "metadata": {
    "colab": {},
    "colab_type": "code",
    "id": "NHxPLlwNxLjL",
    "outputId": "9abd8e08-0e24-4975-9a13-4d3636d60323"
   },
   "outputs": [
    {
     "name": "stdout",
     "output_type": "stream",
     "text": [
      "Number of documents in corpus =  746\n"
     ]
    }
   ],
   "source": [
    "# Below is the code to load the cleaned_strings pickle file provided\n",
    "# Here corpus is of list type\n",
    "\n",
    "import pickle\n",
    "with open('cleaned_strings', 'rb') as f:\n",
    "    corpus1 = pickle.load(f)\n",
    "    \n",
    "# printing the length of the corpus loaded\n",
    "print(\"Number of documents in corpus = \",len(corpus1))"
   ]
  },
  {
   "cell_type": "code",
   "execution_count": 120,
   "metadata": {
    "colab": {},
    "colab_type": "code",
    "id": "ZULfoOIdxLjQ"
   },
   "outputs": [
    {
     "name": "stdout",
     "output_type": "stream",
     "text": [
      "[6.922918004572872, 6.922918004572872, 6.229770824012927, 6.922918004572872, 5.3134800921387715, 6.922918004572872, 6.517452896464707, 6.922918004572872, 6.922918004572872, 6.922918004572872, 6.922918004572872, 6.922918004572872, 6.517452896464707, 6.922918004572872, 6.517452896464707, 6.517452896464707, 6.922918004572872, 6.922918004572872, 2.6960842593046923, 6.229770824012927, 3.927185731018881, 5.218169912334447, 6.229770824012927, 4.283860674957613, 4.671626205966376, 5.670155036077504, 6.229770824012927, 5.218169912334447, 6.922918004572872, 6.517452896464707, 5.824305715904762, 6.922918004572872, 6.229770824012927, 6.922918004572872, 6.922918004572872, 6.922918004572872, 6.006627272698717, 6.922918004572872, 6.922918004572872, 6.517452896464707, 6.229770824012927, 6.922918004572872, 6.922918004572872, 6.922918004572872, 6.517452896464707, 6.517452896464707, 6.922918004572872, 4.214867803470662, 6.229770824012927, 6.229770824012927, 5.824305715904762, 6.517452896464707, 6.922918004572872, 6.922918004572872, 5.3134800921387715, 6.922918004572872, 6.922918004572872, 4.9770078555175585, 6.922918004572872, 6.517452896464707, 6.922918004572872, 6.922918004572872, 6.229770824012927, 6.922918004572872, 5.3134800921387715, 6.006627272698717, 6.922918004572872, 6.006627272698717, 4.397189360264616, 6.229770824012927, 6.006627272698717, 6.922918004572872, 6.517452896464707, 6.922918004572872, 5.536623643452981, 6.922918004572872, 5.670155036077504, 6.006627272698717, 6.517452896464707, 6.517452896464707, 5.824305715904762, 6.922918004572872, 6.922918004572872, 6.922918004572872, 5.824305715904762, 6.922918004572872, 6.517452896464707, 6.922918004572872, 6.229770824012927, 6.517452896464707, 6.922918004572872, 6.922918004572872, 6.922918004572872, 6.922918004572872, 6.922918004572872, 6.517452896464707, 6.922918004572872, 4.843476462893037, 6.006627272698717, 6.922918004572872, 5.670155036077504, 5.824305715904762, 6.922918004572872, 6.922918004572872, 4.843476462893037, 5.418840607796598, 6.922918004572872, 6.922918004572872, 6.517452896464707, 6.517452896464707, 6.229770824012927, 6.922918004572872, 6.922918004572872, 6.922918004572872, 6.006627272698717, 6.517452896464707, 5.824305715904762, 6.922918004572872, 6.922918004572872, 6.922918004572872, 5.824305715904762, 6.922918004572872, 3.5217206229107165, 6.922918004572872, 6.922918004572872, 6.229770824012927, 6.922918004572872, 6.922918004572872, 5.418840607796598, 6.517452896464707, 6.006627272698717, 6.517452896464707, 6.229770824012927, 6.922918004572872, 4.480570969203668, 6.922918004572872, 6.922918004572872, 6.922918004572872, 6.922918004572872, 6.922918004572872, 6.922918004572872, 6.922918004572872, 6.922918004572872, 5.418840607796598, 6.922918004572872, 6.922918004572872, 6.517452896464707, 6.517452896464707, 6.922918004572872, 5.824305715904762, 6.922918004572872, 6.922918004572872, 6.922918004572872, 6.922918004572872, 6.922918004572872, 6.229770824012927, 6.922918004572872, 5.670155036077504, 6.922918004572872, 6.229770824012927, 6.922918004572872, 6.922918004572872, 5.824305715904762, 6.229770824012927, 4.9770078555175585, 6.922918004572872, 4.725693427236653, 6.922918004572872, 6.922918004572872, 6.922918004572872, 6.517452896464707, 6.922918004572872, 5.418840607796598, 6.922918004572872, 6.922918004572872, 3.573013917298267, 6.517452896464707, 5.418840607796598, 6.922918004572872, 6.922918004572872, 6.006627272698717, 6.517452896464707, 6.006627272698717, 6.922918004572872, 6.922918004572872, 6.517452896464707, 6.922918004572872, 6.006627272698717, 6.922918004572872, 6.922918004572872, 6.922918004572872, 6.922918004572872, 6.229770824012927, 6.517452896464707, 6.006627272698717, 6.922918004572872, 6.922918004572872, 6.006627272698717, 5.05111582767128, 6.517452896464707, 5.3134800921387715, 6.517452896464707, 6.922918004572872, 5.824305715904762, 6.922918004572872, 6.517452896464707, 5.670155036077504, 6.006627272698717, 6.922918004572872, 6.922918004572872, 6.922918004572872, 5.218169912334447, 5.3134800921387715, 6.922918004572872, 6.229770824012927, 6.922918004572872, 6.922918004572872, 6.922918004572872, 6.229770824012927, 6.922918004572872, 6.922918004572872, 6.922918004572872, 6.922918004572872, 4.525022731774501, 4.782851841076601, 6.517452896464707, 6.922918004572872, 5.824305715904762, 6.922918004572872, 5.131158535344817, 6.922918004572872, 6.229770824012927, 6.922918004572872, 6.922918004572872, 5.418840607796598, 6.922918004572872, 5.3134800921387715, 6.922918004572872, 6.922918004572872, 6.517452896464707, 6.922918004572872, 6.922918004572872, 6.922918004572872, 6.922918004572872, 6.517452896464707, 6.922918004572872, 6.922918004572872, 6.922918004572872, 6.922918004572872, 6.922918004572872, 5.824305715904762, 6.922918004572872, 6.922918004572872, 6.517452896464707, 6.922918004572872, 6.517452896464707, 6.922918004572872, 6.517452896464707, 6.922918004572872, 6.922918004572872, 6.922918004572872, 6.006627272698717, 6.922918004572872, 6.922918004572872, 6.922918004572872, 6.922918004572872, 6.922918004572872, 5.536623643452981, 6.006627272698717, 5.3134800921387715, 6.922918004572872, 6.922918004572872, 6.229770824012927, 6.922918004572872, 6.229770824012927, 6.922918004572872, 6.922918004572872, 6.922918004572872, 6.229770824012927, 6.922918004572872, 6.517452896464707, 6.922918004572872, 6.922918004572872, 6.922918004572872, 6.517452896464707, 6.517452896464707, 6.922918004572872, 6.922918004572872, 6.229770824012927, 5.536623643452981, 6.922918004572872, 6.229770824012927, 6.922918004572872, 6.517452896464707, 6.922918004572872, 6.922918004572872, 6.922918004572872, 6.922918004572872, 6.922918004572872, 5.536623643452981, 6.922918004572872, 6.922918004572872, 6.229770824012927, 6.922918004572872, 6.922918004572872, 6.922918004572872, 6.517452896464707, 6.922918004572872, 6.517452896464707, 6.922918004572872, 6.517452896464707, 6.517452896464707, 6.517452896464707, 6.922918004572872, 6.922918004572872, 4.9770078555175585, 6.006627272698717, 6.922918004572872, 4.782851841076601, 6.922918004572872, 5.131158535344817, 6.922918004572872, 6.229770824012927, 6.922918004572872, 6.517452896464707, 6.922918004572872, 6.922918004572872, 6.922918004572872, 6.517452896464707, 6.229770824012927, 6.922918004572872, 6.922918004572872, 6.922918004572872, 4.214867803470662, 6.006627272698717, 6.517452896464707, 6.922918004572872, 5.218169912334447, 6.922918004572872, 6.922918004572872, 6.922918004572872, 6.922918004572872, 6.922918004572872, 5.824305715904762, 6.517452896464707, 6.229770824012927, 6.922918004572872, 4.397189360264616, 6.922918004572872, 5.670155036077504, 5.3134800921387715, 6.922918004572872, 6.922918004572872, 6.517452896464707, 6.517452896464707, 6.922918004572872, 6.922918004572872, 6.922918004572872, 6.922918004572872, 6.517452896464707, 6.517452896464707, 5.418840607796598, 5.536623643452981, 6.517452896464707, 6.922918004572872, 6.922918004572872, 6.922918004572872, 6.517452896464707, 6.006627272698717, 6.922918004572872, 6.922918004572872, 6.922918004572872, 3.7874237886437223, 6.922918004572872, 4.150329282333091, 6.229770824012927, 6.922918004572872, 6.517452896464707, 6.922918004572872, 5.824305715904762, 6.229770824012927, 6.922918004572872, 6.922918004572872, 5.418840607796598, 6.922918004572872, 6.006627272698717, 6.229770824012927, 6.517452896464707, 6.922918004572872, 6.922918004572872, 6.922918004572872, 6.922918004572872, 6.517452896464707, 6.006627272698717, 6.517452896464707, 5.131158535344817, 6.517452896464707, 6.006627272698717, 6.922918004572872, 6.922918004572872, 6.922918004572872, 6.922918004572872, 6.922918004572872, 6.922918004572872, 6.922918004572872, 6.922918004572872, 6.922918004572872, 6.922918004572872, 6.517452896464707, 6.922918004572872, 6.517452896464707, 4.725693427236653, 6.922918004572872, 6.922918004572872, 5.3134800921387715, 6.922918004572872, 5.418840607796598, 5.536623643452981, 6.922918004572872, 6.229770824012927, 6.517452896464707, 5.824305715904762, 6.006627272698717, 6.922918004572872, 6.922918004572872, 6.922918004572872, 6.922918004572872, 6.006627272698717, 6.922918004572872, 6.922918004572872, 6.922918004572872, 2.406579032291396, 6.922918004572872, 6.922918004572872, 6.922918004572872, 6.922918004572872, 6.922918004572872, 6.922918004572872, 6.517452896464707, 6.517452896464707, 6.922918004572872, 6.922918004572872, 6.922918004572872, 6.922918004572872, 6.922918004572872, 4.480570969203668, 6.922918004572872, 5.536623643452981, 5.824305715904762, 6.922918004572872, 6.922918004572872, 6.922918004572872, 6.229770824012927, 6.922918004572872, 6.006627272698717, 6.922918004572872, 6.922918004572872, 6.922918004572872, 6.922918004572872, 6.922918004572872, 6.922918004572872, 6.517452896464707, 6.922918004572872, 5.418840607796598, 6.922918004572872, 6.006627272698717, 6.229770824012927, 6.922918004572872, 6.922918004572872, 6.517452896464707, 6.517452896464707, 6.922918004572872, 6.517452896464707, 6.922918004572872, 6.922918004572872, 6.922918004572872, 6.922918004572872, 6.922918004572872, 6.922918004572872, 6.229770824012927, 6.922918004572872, 6.922918004572872, 6.922918004572872, 6.922918004572872, 6.229770824012927, 6.922918004572872, 6.922918004572872, 6.922918004572872, 6.517452896464707, 6.922918004572872, 6.922918004572872, 6.922918004572872, 5.418840607796598, 6.922918004572872, 6.922918004572872, 6.517452896464707, 6.922918004572872, 6.922918004572872, 6.922918004572872, 6.517452896464707, 6.922918004572872, 6.922918004572872, 6.517452896464707, 6.922918004572872, 6.517452896464707, 6.922918004572872, 6.922918004572872, 6.922918004572872, 6.922918004572872, 6.517452896464707, 6.922918004572872, 6.922918004572872, 6.517452896464707, 6.922918004572872, 6.922918004572872, 6.922918004572872, 6.517452896464707, 6.922918004572872, 6.922918004572872, 6.922918004572872, 6.922918004572872, 5.536623643452981, 6.922918004572872, 5.536623643452981, 6.517452896464707, 6.922918004572872, 5.824305715904762, 6.229770824012927, 6.922918004572872, 6.517452896464707, 5.670155036077504, 6.229770824012927, 6.922918004572872, 6.922918004572872, 4.397189360264616, 6.922918004572872, 6.229770824012927, 6.229770824012927, 6.517452896464707, 5.418840607796598, 6.922918004572872, 6.922918004572872, 6.922918004572872, 6.517452896464707, 5.824305715904762, 6.517452896464707, 6.922918004572872, 6.517452896464707, 6.922918004572872, 6.517452896464707, 5.418840607796598, 6.006627272698717, 6.517452896464707, 6.922918004572872, 6.922918004572872, 6.922918004572872, 5.824305715904762, 6.229770824012927, 6.922918004572872, 6.922918004572872, 6.922918004572872, 6.922918004572872, 6.517452896464707, 6.922918004572872, 6.922918004572872, 6.922918004572872, 6.922918004572872, 6.517452896464707, 6.922918004572872, 6.922918004572872, 6.922918004572872, 6.922918004572872, 5.670155036077504, 6.517452896464707, 6.922918004572872, 6.922918004572872, 6.006627272698717, 6.922918004572872, 6.922918004572872, 6.922918004572872, 6.922918004572872, 6.922918004572872, 6.922918004572872, 6.922918004572872, 6.922918004572872, 6.006627272698717, 6.517452896464707, 6.517452896464707, 6.517452896464707, 6.922918004572872, 6.229770824012927, 6.922918004572872, 5.131158535344817, 6.517452896464707, 2.406579032291396, 6.006627272698717, 6.922918004572872, 6.922918004572872, 6.006627272698717, 6.922918004572872, 6.006627272698717, 6.922918004572872, 6.922918004572872, 6.922918004572872, 6.922918004572872, 6.517452896464707, 6.229770824012927, 6.922918004572872, 6.922918004572872, 6.922918004572872, 6.517452896464707, 5.218169912334447, 6.229770824012927, 6.517452896464707, 6.922918004572872, 6.922918004572872, 5.3134800921387715, 6.922918004572872, 6.006627272698717, 6.922918004572872, 6.922918004572872, 5.536623643452981, 6.922918004572872, 6.517452896464707, 6.229770824012927, 6.922918004572872, 6.922918004572872, 6.922918004572872, 6.922918004572872, 6.517452896464707, 6.517452896464707, 6.006627272698717, 6.922918004572872, 6.229770824012927, 6.922918004572872, 6.922918004572872, 6.517452896464707, 6.517452896464707, 6.517452896464707, 6.229770824012927, 6.922918004572872, 6.922918004572872, 6.922918004572872, 6.922918004572872, 6.922918004572872, 6.517452896464707, 6.922918004572872, 6.922918004572872, 6.922918004572872, 6.517452896464707, 6.517452896464707, 6.922918004572872, 2.681591252002126, 6.922918004572872, 4.908014984030608, 6.922918004572872, 5.131158535344817, 6.922918004572872, 6.922918004572872, 6.922918004572872, 5.824305715904762, 6.922918004572872, 6.922918004572872, 4.438011354784871, 6.229770824012927, 5.418840607796598, 6.006627272698717, 5.131158535344817, 6.517452896464707, 6.922918004572872, 5.670155036077504, 6.517452896464707, 6.517452896464707, 6.517452896464707, 6.922918004572872, 6.922918004572872, 6.517452896464707, 6.922918004572872, 6.922918004572872, 6.922918004572872, 6.006627272698717, 6.517452896464707, 6.922918004572872, 6.922918004572872, 6.922918004572872, 6.922918004572872, 6.922918004572872, 6.922918004572872, 6.922918004572872, 6.517452896464707, 6.922918004572872, 6.517452896464707, 6.517452896464707, 6.229770824012927, 6.922918004572872, 6.517452896464707, 6.922918004572872, 6.922918004572872, 5.536623643452981, 6.922918004572872, 6.922918004572872, 6.922918004572872, 6.922918004572872, 6.229770824012927, 6.922918004572872, 6.922918004572872, 4.0325462466767075, 6.922918004572872, 6.922918004572872, 6.006627272698717, 6.229770824012927, 5.131158535344817, 6.517452896464707, 6.922918004572872, 6.922918004572872, 6.229770824012927, 6.517452896464707, 6.922918004572872, 6.922918004572872, 6.229770824012927, 6.922918004572872, 6.229770824012927, 6.922918004572872, 6.922918004572872, 6.922918004572872, 5.670155036077504, 6.517452896464707, 6.517452896464707, 6.229770824012927, 6.922918004572872, 6.922918004572872, 6.922918004572872, 6.922918004572872, 6.229770824012927, 6.922918004572872, 6.922918004572872, 6.229770824012927, 5.670155036077504, 6.517452896464707, 6.229770824012927, 6.006627272698717, 6.517452896464707, 6.922918004572872, 6.922918004572872, 6.922918004572872, 2.0515447778101237, 6.229770824012927, 5.824305715904762, 6.922918004572872, 6.922918004572872, 6.922918004572872, 5.131158535344817, 6.229770824012927, 5.418840607796598, 6.517452896464707, 6.922918004572872, 6.922918004572872, 6.922918004572872, 6.922918004572872, 6.229770824012927, 6.922918004572872, 6.922918004572872, 6.922918004572872, 6.517452896464707, 6.922918004572872, 6.922918004572872, 5.824305715904762, 6.922918004572872, 6.922918004572872, 6.229770824012927, 6.922918004572872, 6.922918004572872, 6.517452896464707, 6.517452896464707, 6.922918004572872, 6.006627272698717, 6.922918004572872, 6.517452896464707, 6.922918004572872, 6.922918004572872, 6.922918004572872, 6.517452896464707, 1.88921743754562, 6.922918004572872, 3.505191320959506, 6.922918004572872, 5.418840607796598, 5.05111582767128, 6.922918004572872, 5.670155036077504, 6.922918004572872, 6.006627272698717, 6.517452896464707, 6.922918004572872, 6.922918004572872, 4.843476462893037, 6.229770824012927, 5.418840607796598, 6.922918004572872, 5.218169912334447, 5.418840607796598, 6.922918004572872, 6.922918004572872, 6.006627272698717, 5.418840607796598, 6.517452896464707, 6.922918004572872, 6.006627272698717, 6.922918004572872, 6.922918004572872, 3.854865069439255, 6.517452896464707, 6.922918004572872, 6.922918004572872, 6.922918004572872, 5.418840607796598, 6.922918004572872, 6.517452896464707, 6.922918004572872, 6.922918004572872, 6.922918004572872, 6.229770824012927, 6.517452896464707, 6.922918004572872, 3.9784790254064317, 6.922918004572872, 3.0727704028628136, 4.089704660516656, 6.922918004572872, 5.418840607796598, 5.05111582767128, 6.922918004572872, 6.922918004572872, 6.517452896464707, 6.922918004572872, 6.922918004572872, 6.229770824012927, 6.922918004572872, 6.229770824012927, 4.843476462893037, 6.517452896464707, 6.006627272698717, 6.229770824012927, 6.922918004572872, 6.922918004572872, 6.922918004572872, 6.922918004572872, 6.922918004572872, 6.922918004572872, 6.517452896464707, 6.922918004572872, 6.922918004572872, 6.922918004572872, 6.517452896464707, 6.922918004572872, 6.922918004572872, 5.536623643452981, 6.922918004572872, 6.922918004572872, 6.922918004572872, 5.418840607796598, 6.922918004572872, 6.922918004572872, 6.229770824012927, 6.922918004572872, 6.517452896464707, 6.922918004572872, 6.922918004572872, 6.922918004572872, 6.922918004572872, 6.517452896464707, 6.922918004572872, 6.922918004572872, 6.922918004572872, 6.922918004572872, 6.517452896464707, 5.418840607796598, 6.006627272698717, 6.922918004572872, 5.670155036077504, 6.922918004572872, 6.922918004572872, 6.922918004572872, 5.218169912334447, 6.517452896464707, 6.922918004572872, 5.824305715904762, 6.517452896464707, 6.922918004572872, 6.517452896464707, 6.006627272698717, 6.922918004572872, 6.922918004572872, 6.922918004572872, 6.922918004572872, 6.517452896464707, 6.922918004572872, 5.536623643452981, 6.922918004572872, 5.05111582767128, 6.922918004572872, 5.824305715904762, 6.229770824012927, 6.922918004572872, 5.418840607796598, 6.922918004572872, 6.922918004572872, 6.922918004572872, 6.517452896464707, 6.922918004572872, 6.922918004572872, 5.824305715904762, 6.922918004572872, 6.229770824012927, 6.922918004572872, 6.922918004572872, 6.922918004572872, 6.229770824012927, 6.922918004572872, 6.229770824012927, 6.229770824012927, 6.006627272698717, 6.229770824012927, 5.05111582767128, 5.3134800921387715, 6.922918004572872, 6.922918004572872, 6.922918004572872, 6.922918004572872, 5.824305715904762, 6.229770824012927, 6.922918004572872, 6.922918004572872, 6.922918004572872, 2.369041112972331, 6.922918004572872, 6.922918004572872, 6.922918004572872, 6.517452896464707, 2.6532205548729104, 6.517452896464707, 6.922918004572872, 6.922918004572872, 6.922918004572872, 4.671626205966376, 5.536623643452981, 6.922918004572872, 6.229770824012927, 6.922918004572872, 5.131158535344817, 6.922918004572872, 5.536623643452981, 6.922918004572872, 6.922918004572872, 6.922918004572872, 6.922918004572872, 5.218169912334447, 6.517452896464707, 6.922918004572872, 6.922918004572872, 6.922918004572872, 6.517452896464707, 6.922918004572872, 6.922918004572872, 6.922918004572872, 6.922918004572872, 6.517452896464707, 5.824305715904762, 6.517452896464707, 6.517452896464707, 6.922918004572872, 5.824305715904762, 6.922918004572872, 6.922918004572872, 6.922918004572872, 6.922918004572872, 6.517452896464707, 6.517452896464707, 6.922918004572872, 5.670155036077504, 6.517452896464707, 6.922918004572872, 6.922918004572872, 6.229770824012927, 6.922918004572872, 6.006627272698717, 6.922918004572872, 6.517452896464707, 6.922918004572872, 6.517452896464707, 6.922918004572872, 6.922918004572872, 5.824305715904762, 6.517452896464707, 6.922918004572872, 6.517452896464707, 6.922918004572872, 4.671626205966376, 6.922918004572872, 6.922918004572872, 5.05111582767128, 6.922918004572872, 6.922918004572872, 5.536623643452981, 6.922918004572872, 6.229770824012927, 6.922918004572872, 6.922918004572872, 6.922918004572872, 6.517452896464707, 5.670155036077504, 6.517452896464707, 6.922918004572872, 6.517452896464707, 6.006627272698717, 6.922918004572872, 6.229770824012927, 6.922918004572872, 6.229770824012927, 6.229770824012927, 6.922918004572872, 6.922918004572872, 6.922918004572872, 6.517452896464707, 6.922918004572872, 4.908014984030608, 5.418840607796598, 6.922918004572872, 4.438011354784871, 6.517452896464707, 6.922918004572872, 6.922918004572872, 4.725693427236653, 6.517452896464707, 6.517452896464707, 6.922918004572872, 6.922918004572872, 6.922918004572872, 6.922918004572872, 6.922918004572872, 6.922918004572872, 5.670155036077504, 6.229770824012927, 6.922918004572872, 5.536623643452981, 6.922918004572872, 6.922918004572872, 6.922918004572872, 6.922918004572872, 5.824305715904762, 6.922918004572872, 6.922918004572872, 6.229770824012927, 5.824305715904762, 6.006627272698717, 6.922918004572872, 6.922918004572872, 6.517452896464707, 6.517452896464707, 6.922918004572872, 6.229770824012927, 6.922918004572872, 6.922918004572872, 6.922918004572872, 3.9784790254064317, 5.670155036077504, 6.517452896464707, 6.922918004572872, 6.229770824012927, 6.922918004572872, 6.922918004572872, 6.922918004572872, 5.218169912334447, 6.517452896464707, 6.922918004572872, 6.922918004572872, 4.725693427236653, 6.229770824012927, 5.824305715904762, 6.922918004572872, 6.229770824012927, 6.517452896464707, 6.922918004572872, 6.922918004572872, 3.105205678615967, 6.922918004572872, 6.006627272698717, 6.517452896464707, 5.218169912334447, 6.922918004572872, 6.517452896464707, 3.7874237886437223, 6.517452896464707, 6.922918004572872, 6.922918004572872, 6.922918004572872, 4.908014984030608, 6.922918004572872, 6.922918004572872, 6.517452896464707, 6.922918004572872, 6.006627272698717, 6.922918004572872, 6.922918004572872, 6.922918004572872, 6.922918004572872, 6.922918004572872, 6.922918004572872, 6.922918004572872, 4.119557623666337, 6.229770824012927, 6.922918004572872, 6.517452896464707, 6.922918004572872, 6.922918004572872, 6.517452896464707, 6.922918004572872, 6.517452896464707, 6.922918004572872, 6.922918004572872, 6.922918004572872, 6.922918004572872, 5.824305715904762, 6.922918004572872, 6.922918004572872, 6.922918004572872, 6.229770824012927, 6.922918004572872, 6.517452896464707, 6.922918004572872, 6.517452896464707, 6.922918004572872, 5.536623643452981, 6.922918004572872, 6.006627272698717, 5.418840607796598, 6.006627272698717, 6.517452896464707, 6.922918004572872, 6.517452896464707, 5.670155036077504, 6.922918004572872, 6.517452896464707, 5.670155036077504, 6.229770824012927, 6.922918004572872, 6.922918004572872, 6.006627272698717, 6.922918004572872, 5.218169912334447, 6.517452896464707, 6.922918004572872, 6.922918004572872, 6.229770824012927, 6.922918004572872, 6.922918004572872, 6.517452896464707, 6.006627272698717, 6.922918004572872, 5.3134800921387715, 6.517452896464707, 5.824305715904762, 6.922918004572872, 6.922918004572872, 6.517452896464707, 6.922918004572872, 6.922918004572872, 6.922918004572872, 6.922918004572872, 6.006627272698717, 6.922918004572872, 6.922918004572872, 6.006627272698717, 6.922918004572872, 6.517452896464707, 6.517452896464707, 6.922918004572872, 6.922918004572872, 6.006627272698717, 6.922918004572872, 6.922918004572872, 6.922918004572872, 5.670155036077504, 6.922918004572872, 4.908014984030608, 6.922918004572872, 6.922918004572872, 6.922918004572872, 5.3134800921387715, 5.670155036077504, 5.670155036077504, 6.922918004572872, 5.824305715904762, 5.670155036077504, 6.229770824012927, 2.6532205548729104, 6.922918004572872, 6.922918004572872, 5.824305715904762, 6.922918004572872, 6.922918004572872, 5.670155036077504, 6.922918004572872, 6.517452896464707, 6.517452896464707, 6.006627272698717, 6.922918004572872, 6.517452896464707, 6.922918004572872, 6.517452896464707, 5.670155036077504, 6.922918004572872, 6.922918004572872, 6.517452896464707, 6.922918004572872, 5.824305715904762, 6.922918004572872, 6.922918004572872, 5.418840607796598, 6.517452896464707, 6.922918004572872, 4.908014984030608, 5.536623643452981, 6.229770824012927, 5.824305715904762, 6.922918004572872, 6.922918004572872, 4.843476462893037, 6.922918004572872, 5.218169912334447, 6.006627272698717, 6.922918004572872, 5.418840607796598, 6.922918004572872, 6.922918004572872, 6.922918004572872, 6.229770824012927, 6.517452896464707, 6.517452896464707, 6.922918004572872, 6.229770824012927, 6.922918004572872, 6.922918004572872, 5.824305715904762, 6.922918004572872, 6.922918004572872, 6.922918004572872, 6.517452896464707, 6.229770824012927, 6.922918004572872, 6.922918004572872, 6.517452896464707, 3.0310977064622455, 6.517452896464707, 6.006627272698717, 6.517452896464707, 6.922918004572872, 6.922918004572872, 6.517452896464707, 6.922918004572872, 6.922918004572872, 6.517452896464707, 6.517452896464707, 6.922918004572872, 6.517452896464707, 6.922918004572872, 6.517452896464707, 6.922918004572872, 6.922918004572872, 6.922918004572872, 6.922918004572872, 6.922918004572872, 6.922918004572872, 6.922918004572872, 6.229770824012927, 6.922918004572872, 6.922918004572872, 6.922918004572872, 6.006627272698717, 6.229770824012927, 6.006627272698717, 6.922918004572872, 6.922918004572872, 6.922918004572872, 6.922918004572872, 6.922918004572872, 6.922918004572872, 6.229770824012927, 6.517452896464707, 6.922918004572872, 6.922918004572872, 6.922918004572872, 6.922918004572872, 6.922918004572872, 6.922918004572872, 6.922918004572872, 6.922918004572872, 6.922918004572872, 6.922918004572872, 6.922918004572872, 6.922918004572872, 6.922918004572872, 6.517452896464707, 6.922918004572872, 6.922918004572872, 6.006627272698717, 6.922918004572872, 6.922918004572872, 6.922918004572872, 6.006627272698717, 6.006627272698717, 6.922918004572872, 6.922918004572872, 6.922918004572872, 6.922918004572872, 4.725693427236653, 6.517452896464707, 4.9770078555175585, 6.922918004572872, 6.517452896464707, 6.922918004572872, 6.922918004572872, 6.922918004572872, 6.922918004572872, 6.922918004572872, 5.824305715904762, 6.922918004572872, 6.922918004572872, 6.229770824012927, 6.922918004572872, 6.922918004572872, 6.517452896464707, 6.922918004572872, 6.922918004572872, 6.922918004572872, 5.670155036077504, 6.229770824012927, 6.517452896464707, 6.922918004572872, 6.517452896464707, 3.590713494397668, 6.922918004572872, 6.922918004572872, 6.006627272698717, 6.517452896464707, 6.922918004572872, 6.922918004572872, 6.922918004572872, 6.922918004572872, 6.517452896464707, 6.922918004572872, 6.517452896464707, 6.922918004572872, 6.922918004572872, 6.922918004572872, 6.922918004572872, 6.229770824012927, 6.517452896464707, 5.131158535344817, 6.517452896464707, 6.922918004572872, 5.824305715904762, 6.922918004572872, 6.229770824012927, 6.922918004572872, 6.517452896464707, 6.922918004572872, 6.517452896464707, 4.525022731774501, 6.922918004572872, 6.922918004572872, 6.922918004572872, 6.922918004572872, 6.922918004572872, 6.922918004572872, 6.922918004572872, 6.517452896464707, 6.517452896464707, 6.922918004572872, 6.922918004572872, 6.922918004572872, 6.922918004572872, 6.922918004572872, 5.670155036077504, 6.517452896464707, 6.922918004572872, 6.922918004572872, 6.922918004572872, 6.922918004572872, 5.218169912334447, 6.922918004572872, 5.418840607796598, 6.922918004572872, 5.536623643452981, 6.517452896464707, 6.229770824012927, 6.922918004572872, 5.218169912334447, 6.517452896464707, 6.922918004572872, 6.922918004572872, 6.229770824012927, 6.922918004572872, 6.922918004572872, 4.782851841076601, 6.517452896464707, 6.922918004572872, 6.922918004572872, 6.922918004572872, 6.922918004572872, 6.922918004572872, 2.592184664286541, 6.922918004572872, 4.843476462893037, 6.517452896464707, 5.824305715904762, 6.922918004572872, 6.922918004572872, 5.824305715904762, 5.418840607796598, 6.922918004572872, 6.229770824012927, 6.517452896464707, 6.922918004572872, 6.922918004572872, 6.922918004572872, 5.824305715904762, 6.922918004572872, 6.922918004572872, 5.536623643452981, 6.922918004572872, 6.922918004572872, 6.922918004572872, 6.229770824012927, 6.922918004572872, 5.536623643452981, 6.229770824012927, 6.922918004572872, 6.922918004572872, 6.517452896464707, 6.517452896464707, 5.670155036077504, 6.922918004572872, 6.922918004572872, 6.229770824012927, 5.536623643452981, 6.006627272698717, 6.517452896464707, 6.922918004572872, 6.006627272698717, 6.229770824012927, 6.922918004572872, 6.922918004572872, 6.517452896464707, 6.922918004572872, 4.438011354784871, 6.517452896464707, 6.922918004572872, 4.782851841076601, 6.517452896464707, 6.922918004572872, 5.824305715904762, 6.517452896464707, 6.922918004572872, 5.536623643452981, 4.214867803470662, 6.229770824012927, 6.922918004572872, 4.9770078555175585, 6.922918004572872, 5.05111582767128, 6.517452896464707, 3.7040421797046714, 5.131158535344817, 6.517452896464707, 6.922918004572872, 6.922918004572872, 6.922918004572872, 6.922918004572872, 6.922918004572872, 4.438011354784871, 6.922918004572872, 5.218169912334447, 6.922918004572872, 6.006627272698717, 5.536623643452981, 6.517452896464707, 6.922918004572872, 4.725693427236653, 6.922918004572872, 6.517452896464707, 6.229770824012927, 6.517452896464707, 6.922918004572872, 6.229770824012927, 6.922918004572872, 6.922918004572872, 6.229770824012927, 6.922918004572872, 6.517452896464707, 4.9770078555175585, 6.922918004572872, 4.283860674957613, 6.006627272698717, 6.229770824012927, 6.229770824012927, 6.517452896464707, 6.922918004572872, 6.517452896464707, 4.9770078555175585, 6.517452896464707, 6.006627272698717, 4.089704660516656, 6.006627272698717, 6.229770824012927, 6.922918004572872, 4.182077980647671, 5.3134800921387715, 6.006627272698717, 6.922918004572872, 4.248769355146344, 6.922918004572872, 6.922918004572872, 6.922918004572872, 6.517452896464707, 6.922918004572872, 6.922918004572872, 6.922918004572872, 6.922918004572872, 6.517452896464707, 6.517452896464707, 4.397189360264616, 4.480570969203668, 6.922918004572872, 5.824305715904762, 6.922918004572872, 6.922918004572872, 4.150329282333091, 6.229770824012927, 6.922918004572872, 5.418840607796598, 5.670155036077504, 5.824305715904762, 6.922918004572872, 6.922918004572872, 3.6842395524084917, 6.922918004572872, 6.922918004572872, 6.922918004572872, 6.922918004572872, 4.908014984030608, 6.922918004572872, 6.922918004572872, 6.922918004572872, 6.922918004572872, 5.824305715904762, 6.922918004572872, 6.922918004572872, 6.517452896464707, 6.922918004572872, 6.922918004572872, 6.922918004572872, 5.3134800921387715, 6.517452896464707, 6.229770824012927, 6.517452896464707, 6.517452896464707, 6.922918004572872, 6.517452896464707, 6.922918004572872, 6.229770824012927, 5.536623643452981, 6.006627272698717, 6.922918004572872, 6.922918004572872, 6.922918004572872, 5.218169912334447, 6.922918004572872, 6.006627272698717, 6.922918004572872, 6.922918004572872, 6.922918004572872, 6.006627272698717, 6.922918004572872, 6.922918004572872, 6.922918004572872, 5.670155036077504, 6.922918004572872, 5.670155036077504, 6.229770824012927, 6.922918004572872, 6.922918004572872, 6.922918004572872, 5.824305715904762, 6.517452896464707, 6.922918004572872, 6.922918004572872, 6.922918004572872, 5.418840607796598, 6.922918004572872, 6.922918004572872, 6.922918004572872, 6.922918004572872, 6.006627272698717, 6.922918004572872, 6.922918004572872, 6.229770824012927, 6.922918004572872, 5.536623643452981, 6.922918004572872, 6.922918004572872, 6.517452896464707, 6.922918004572872, 5.131158535344817, 5.418840607796598, 6.922918004572872, 6.922918004572872, 6.922918004572872, 6.517452896464707, 6.922918004572872, 6.229770824012927, 6.517452896464707, 6.922918004572872, 6.229770824012927, 6.517452896464707, 6.922918004572872, 6.922918004572872, 5.670155036077504, 6.517452896464707, 6.922918004572872, 5.824305715904762, 6.922918004572872, 6.922918004572872, 6.922918004572872, 6.922918004572872, 6.922918004572872, 6.922918004572872, 6.517452896464707, 6.517452896464707, 6.922918004572872, 5.670155036077504, 6.517452896464707, 5.824305715904762, 6.922918004572872, 6.922918004572872, 6.517452896464707, 6.517452896464707, 6.006627272698717, 6.922918004572872, 6.922918004572872, 6.922918004572872, 2.625632598354081, 4.480570969203668, 5.670155036077504, 4.119557623666337, 4.725693427236653, 6.922918004572872, 6.922918004572872, 6.006627272698717, 6.517452896464707, 6.922918004572872, 6.922918004572872, 4.908014984030608, 6.922918004572872, 5.418840607796598, 6.922918004572872, 6.922918004572872, 6.922918004572872, 6.229770824012927, 6.922918004572872, 6.517452896464707, 6.922918004572872, 6.229770824012927, 6.229770824012927, 6.517452896464707, 6.922918004572872, 6.922918004572872, 6.922918004572872, 5.670155036077504, 6.229770824012927, 6.922918004572872, 6.229770824012927, 6.922918004572872, 6.922918004572872, 6.517452896464707, 6.922918004572872, 6.922918004572872, 5.536623643452981, 6.922918004572872, 6.922918004572872, 4.671626205966376, 6.922918004572872, 6.922918004572872, 5.418840607796598, 6.229770824012927, 5.670155036077504, 6.922918004572872, 5.536623643452981, 6.922918004572872, 6.922918004572872, 2.390318511419616, 6.922918004572872, 6.229770824012927, 6.517452896464707, 5.218169912334447, 6.229770824012927, 6.922918004572872, 6.229770824012927, 5.670155036077504, 6.922918004572872, 6.922918004572872, 6.922918004572872, 2.7408678619316658, 6.517452896464707, 6.922918004572872, 5.824305715904762, 6.517452896464707, 5.131158535344817, 6.922918004572872, 6.517452896464707, 6.922918004572872, 6.922918004572872, 6.922918004572872, 6.922918004572872, 4.908014984030608, 6.517452896464707, 6.922918004572872, 6.922918004572872, 6.229770824012927, 6.229770824012927, 6.006627272698717, 6.517452896464707, 6.517452896464707, 6.922918004572872, 6.229770824012927, 6.922918004572872, 6.517452896464707, 6.006627272698717, 6.229770824012927, 6.006627272698717, 5.05111582767128, 6.922918004572872, 4.671626205966376, 6.517452896464707, 6.922918004572872, 4.320228319128488, 6.922918004572872, 6.006627272698717, 3.094276608083777, 5.824305715904762, 5.824305715904762, 6.517452896464707, 6.517452896464707, 6.922918004572872, 6.922918004572872, 6.922918004572872, 6.922918004572872, 5.670155036077504, 6.922918004572872, 6.922918004572872, 6.922918004572872, 6.229770824012927, 6.517452896464707, 6.922918004572872, 4.671626205966376, 6.922918004572872, 6.922918004572872, 6.922918004572872, 6.922918004572872, 6.517452896464707, 5.824305715904762, 6.922918004572872, 6.922918004572872, 6.517452896464707, 6.517452896464707, 6.922918004572872, 6.922918004572872, 5.670155036077504, 6.922918004572872, 6.517452896464707, 6.229770824012927, 4.089704660516656, 5.3134800921387715, 6.229770824012927, 6.517452896464707, 6.922918004572872, 6.517452896464707, 6.229770824012927, 6.922918004572872, 6.517452896464707, 6.922918004572872, 6.517452896464707, 6.922918004572872, 6.922918004572872, 6.517452896464707, 6.922918004572872, 6.517452896464707, 6.922918004572872, 4.248769355146344, 6.517452896464707, 6.517452896464707, 6.922918004572872, 4.397189360264616, 6.922918004572872, 5.418840607796598, 5.824305715904762, 6.006627272698717, 6.922918004572872, 6.922918004572872, 6.517452896464707, 6.922918004572872, 5.824305715904762, 6.922918004572872, 6.229770824012927, 6.922918004572872, 6.517452896464707, 6.922918004572872, 6.922918004572872, 6.922918004572872, 6.922918004572872, 4.9770078555175585, 6.922918004572872, 5.218169912334447, 6.922918004572872, 6.229770824012927, 4.843476462893037, 6.006627272698717, 6.006627272698717, 6.006627272698717, 6.922918004572872, 6.229770824012927, 6.922918004572872, 6.922918004572872, 6.229770824012927, 6.517452896464707, 6.922918004572872, 6.922918004572872, 6.922918004572872, 6.922918004572872, 6.006627272698717, 6.229770824012927, 6.922918004572872, 6.922918004572872, 3.590713494397668, 6.922918004572872, 5.824305715904762, 6.517452896464707, 4.908014984030608, 6.006627272698717, 6.922918004572872, 6.922918004572872, 6.922918004572872, 6.517452896464707, 6.922918004572872, 5.418840607796598, 6.229770824012927, 6.006627272698717, 6.922918004572872, 6.922918004572872, 6.922918004572872, 4.119557623666337, 5.218169912334447, 6.229770824012927, 6.922918004572872, 5.536623643452981, 6.229770824012927, 6.517452896464707, 6.517452896464707, 6.517452896464707, 6.922918004572872, 6.922918004572872, 6.517452896464707, 6.922918004572872, 4.320228319128488, 6.922918004572872, 6.229770824012927, 6.229770824012927, 6.229770824012927, 6.517452896464707, 6.922918004572872, 4.782851841076601, 6.922918004572872, 6.229770824012927, 6.922918004572872, 6.922918004572872, 6.517452896464707, 6.922918004572872, 6.922918004572872, 6.922918004572872, 5.536623643452981, 6.517452896464707, 6.922918004572872, 6.517452896464707, 5.536623643452981, 6.922918004572872, 6.922918004572872, 6.517452896464707, 6.922918004572872, 6.006627272698717, 6.229770824012927, 6.922918004572872, 6.922918004572872, 6.006627272698717, 6.922918004572872, 6.922918004572872, 6.517452896464707, 6.922918004572872, 6.922918004572872, 6.922918004572872, 5.05111582767128, 5.218169912334447, 6.517452896464707, 6.922918004572872, 6.922918004572872, 6.006627272698717, 6.922918004572872, 6.517452896464707, 6.006627272698717, 6.922918004572872, 6.922918004572872, 6.229770824012927, 6.922918004572872, 4.9770078555175585, 6.517452896464707, 6.922918004572872, 6.922918004572872, 5.536623643452981, 5.670155036077504, 6.006627272698717, 6.517452896464707, 6.517452896464707, 5.824305715904762, 6.229770824012927, 6.517452896464707, 6.922918004572872, 5.670155036077504, 5.824305715904762, 6.922918004572872, 6.922918004572872, 6.922918004572872, 6.922918004572872, 6.922918004572872, 6.922918004572872, 6.922918004572872, 6.922918004572872, 6.229770824012927, 6.922918004572872, 6.922918004572872, 6.922918004572872, 6.229770824012927, 4.480570969203668, 6.922918004572872, 6.517452896464707, 6.922918004572872, 6.922918004572872, 6.006627272698717, 6.922918004572872, 6.922918004572872, 6.922918004572872, 6.922918004572872, 6.517452896464707, 6.922918004572872, 6.517452896464707, 6.517452896464707, 6.229770824012927, 6.922918004572872, 5.3134800921387715, 6.517452896464707, 6.922918004572872, 6.922918004572872, 4.150329282333091, 6.922918004572872, 6.922918004572872, 6.229770824012927, 6.229770824012927, 6.922918004572872, 6.517452896464707, 6.922918004572872, 6.922918004572872, 6.517452896464707, 5.3134800921387715, 5.536623643452981, 6.517452896464707, 6.517452896464707, 6.922918004572872, 6.922918004572872, 6.922918004572872, 6.229770824012927, 6.229770824012927, 6.922918004572872, 5.05111582767128, 6.229770824012927, 5.670155036077504, 5.536623643452981, 6.517452896464707, 6.922918004572872, 5.824305715904762, 4.843476462893037, 6.517452896464707, 6.922918004572872, 6.517452896464707, 5.536623643452981, 3.573013917298267, 6.922918004572872, 6.229770824012927, 6.517452896464707, 6.517452896464707, 6.922918004572872, 4.089704660516656, 5.824305715904762, 6.922918004572872, 6.922918004572872, 6.229770824012927, 6.517452896464707, 5.824305715904762, 6.517452896464707, 4.671626205966376, 5.536623643452981, 6.922918004572872, 6.922918004572872, 6.922918004572872, 6.922918004572872, 6.517452896464707, 6.922918004572872, 6.517452896464707, 6.922918004572872, 6.922918004572872, 6.922918004572872, 6.006627272698717, 6.922918004572872, 6.922918004572872, 6.922918004572872, 6.517452896464707, 6.922918004572872, 5.670155036077504, 5.824305715904762, 6.229770824012927, 6.517452896464707, 6.922918004572872, 6.922918004572872, 6.006627272698717, 6.229770824012927, 6.922918004572872, 6.922918004572872, 6.517452896464707, 6.229770824012927, 6.517452896464707, 6.229770824012927, 6.922918004572872, 6.517452896464707, 6.922918004572872, 6.922918004572872, 6.922918004572872, 6.922918004572872, 4.843476462893037, 6.922918004572872, 6.922918004572872, 6.922918004572872, 6.922918004572872, 6.922918004572872, 6.922918004572872, 6.922918004572872, 6.922918004572872, 6.922918004572872, 6.922918004572872, 6.922918004572872, 6.922918004572872, 4.525022731774501, 6.517452896464707, 6.229770824012927, 6.922918004572872, 6.922918004572872, 6.922918004572872, 6.922918004572872, 6.517452896464707, 6.517452896464707, 6.922918004572872, 6.922918004572872, 6.922918004572872, 5.670155036077504, 6.229770824012927, 6.922918004572872, 6.922918004572872, 6.922918004572872, 6.922918004572872, 5.824305715904762, 6.922918004572872, 4.782851841076601, 6.517452896464707, 6.922918004572872, 6.006627272698717, 6.517452896464707, 6.922918004572872, 6.922918004572872, 6.517452896464707, 6.229770824012927, 6.517452896464707, 6.922918004572872, 6.922918004572872, 6.922918004572872, 6.922918004572872, 6.922918004572872, 5.418840607796598, 6.006627272698717, 6.922918004572872, 6.922918004572872, 6.922918004572872, 6.006627272698717, 6.922918004572872, 6.517452896464707, 5.131158535344817, 5.218169912334447, 6.922918004572872, 5.3134800921387715, 6.922918004572872, 6.922918004572872, 6.922918004572872, 6.922918004572872, 6.922918004572872, 6.006627272698717, 6.517452896464707, 6.517452896464707, 6.517452896464707, 6.922918004572872, 6.922918004572872, 6.922918004572872, 6.922918004572872, 6.922918004572872, 6.006627272698717, 6.517452896464707, 6.922918004572872, 6.517452896464707, 6.922918004572872, 5.824305715904762, 6.517452896464707, 6.922918004572872, 6.922918004572872, 5.824305715904762, 6.922918004572872, 6.922918004572872, 6.922918004572872, 6.922918004572872, 6.922918004572872, 5.05111582767128, 5.05111582767128, 6.922918004572872, 6.229770824012927, 6.922918004572872, 5.824305715904762, 6.229770824012927, 6.922918004572872, 6.517452896464707, 4.283860674957613, 6.229770824012927, 4.782851841076601, 6.922918004572872, 6.922918004572872, 6.517452896464707, 6.922918004572872, 6.517452896464707, 6.922918004572872, 5.418840607796598, 6.922918004572872, 6.922918004572872, 6.229770824012927, 6.922918004572872, 6.517452896464707, 6.922918004572872, 4.908014984030608, 6.922918004572872, 6.922918004572872, 6.229770824012927, 6.922918004572872, 4.620332911578826, 6.922918004572872, 6.922918004572872, 6.922918004572872, 6.922918004572872, 5.3134800921387715, 6.517452896464707, 6.922918004572872, 6.922918004572872, 6.517452896464707, 6.922918004572872, 5.418840607796598, 6.922918004572872, 6.922918004572872, 3.3965574799567104, 5.536623643452981, 5.218169912334447, 6.229770824012927, 6.229770824012927, 4.480570969203668, 6.922918004572872, 5.670155036077504, 6.922918004572872, 6.922918004572872, 6.922918004572872, 5.536623643452981, 6.517452896464707, 6.922918004572872, 6.922918004572872, 6.517452896464707, 6.922918004572872, 6.229770824012927, 6.922918004572872, 6.006627272698717, 6.517452896464707, 5.418840607796598, 5.536623643452981, 6.229770824012927, 6.229770824012927, 5.218169912334447, 6.006627272698717, 6.229770824012927, 6.922918004572872, 6.922918004572872, 6.517452896464707, 6.922918004572872, 6.517452896464707, 6.922918004572872, 6.922918004572872, 6.229770824012927, 6.922918004572872, 6.229770824012927, 6.922918004572872, 6.922918004572872, 6.922918004572872, 6.922918004572872, 5.536623643452981, 6.922918004572872, 6.922918004572872, 6.922918004572872, 6.922918004572872, 6.922918004572872, 6.922918004572872, 6.922918004572872, 6.922918004572872, 6.922918004572872, 6.922918004572872, 5.05111582767128, 6.922918004572872, 5.418840607796598, 6.229770824012927, 4.397189360264616, 6.922918004572872, 6.229770824012927, 6.229770824012927, 6.922918004572872, 6.922918004572872, 6.517452896464707, 4.725693427236653, 6.922918004572872, 5.670155036077504, 6.517452896464707, 6.229770824012927, 6.922918004572872, 6.922918004572872, 6.922918004572872, 5.418840607796598, 5.536623643452981, 6.517452896464707, 4.357968647111335, 6.229770824012927, 5.824305715904762, 6.922918004572872, 6.517452896464707, 6.922918004572872, 6.229770824012927, 6.517452896464707, 4.908014984030608, 6.922918004572872, 6.006627272698717, 6.922918004572872, 6.922918004572872, 6.229770824012927, 6.922918004572872, 6.922918004572872, 6.922918004572872, 6.922918004572872, 6.922918004572872, 6.229770824012927, 6.922918004572872, 6.517452896464707, 6.922918004572872, 6.922918004572872, 6.922918004572872, 5.536623643452981, 6.922918004572872, 6.922918004572872, 6.006627272698717, 6.229770824012927, 6.922918004572872, 6.517452896464707, 6.922918004572872, 6.922918004572872, 6.922918004572872, 6.922918004572872, 6.922918004572872, 6.922918004572872, 6.922918004572872, 6.922918004572872, 6.922918004572872, 6.922918004572872, 5.824305715904762, 6.922918004572872, 6.922918004572872, 6.229770824012927, 6.006627272698717, 6.006627272698717, 6.517452896464707, 4.357968647111335, 5.536623643452981, 6.006627272698717, 6.922918004572872, 6.922918004572872, 6.922918004572872, 6.922918004572872, 6.229770824012927, 6.517452896464707, 4.9770078555175585, 6.922918004572872, 6.922918004572872, 6.006627272698717, 6.922918004572872, 6.006627272698717, 6.922918004572872, 5.824305715904762, 6.922918004572872, 6.922918004572872, 6.922918004572872, 6.006627272698717, 6.922918004572872, 4.782851841076601, 6.517452896464707, 6.922918004572872, 6.229770824012927, 6.922918004572872, 6.517452896464707, 6.922918004572872, 6.922918004572872, 6.922918004572872, 5.670155036077504, 6.922918004572872, 6.006627272698717, 6.229770824012927, 6.922918004572872, 6.922918004572872, 6.922918004572872, 6.922918004572872, 6.517452896464707, 6.922918004572872, 4.9770078555175585, 6.922918004572872, 6.229770824012927, 4.843476462893037, 6.922918004572872, 6.922918004572872, 6.229770824012927, 5.536623643452981, 5.824305715904762, 6.922918004572872, 5.824305715904762, 6.229770824012927, 6.922918004572872, 6.922918004572872, 6.922918004572872, 6.922918004572872, 6.229770824012927, 6.922918004572872, 6.517452896464707, 6.922918004572872, 6.229770824012927, 6.922918004572872, 6.922918004572872, 4.908014984030608, 6.922918004572872, 6.922918004572872, 6.517452896464707, 6.922918004572872, 6.922918004572872, 6.517452896464707, 6.006627272698717, 6.922918004572872, 4.283860674957613, 6.006627272698717, 6.922918004572872, 6.922918004572872, 6.517452896464707, 6.922918004572872, 6.922918004572872, 6.922918004572872, 6.517452896464707, 6.922918004572872, 6.922918004572872, 6.922918004572872, 6.922918004572872, 5.824305715904762, 6.922918004572872, 6.922918004572872, 6.922918004572872, 6.922918004572872, 6.517452896464707, 6.922918004572872, 6.517452896464707, 6.922918004572872, 6.922918004572872, 6.517452896464707, 4.908014984030608, 6.922918004572872, 5.670155036077504, 6.922918004572872, 4.9770078555175585, 6.922918004572872, 6.922918004572872, 6.229770824012927, 6.922918004572872, 6.922918004572872, 6.922918004572872, 5.670155036077504, 6.922918004572872, 6.922918004572872, 6.922918004572872, 6.922918004572872, 6.922918004572872, 5.824305715904762, 6.229770824012927, 6.922918004572872, 6.922918004572872, 6.517452896464707, 6.517452896464707, 6.922918004572872, 6.922918004572872, 6.006627272698717, 6.517452896464707, 6.922918004572872, 4.9770078555175585, 5.418840607796598, 6.922918004572872, 6.517452896464707, 6.922918004572872, 6.922918004572872, 6.922918004572872, 6.922918004572872, 6.006627272698717, 6.517452896464707, 5.824305715904762, 6.922918004572872, 6.517452896464707, 6.922918004572872, 6.922918004572872, 6.922918004572872, 5.824305715904762, 6.229770824012927, 6.229770824012927, 6.922918004572872, 6.922918004572872, 5.418840607796598, 6.922918004572872, 6.922918004572872, 6.922918004572872, 6.922918004572872, 6.922918004572872, 6.922918004572872, 6.922918004572872, 6.922918004572872, 6.922918004572872, 6.922918004572872, 6.922918004572872, 6.922918004572872, 6.922918004572872, 5.218169912334447, 6.922918004572872, 6.229770824012927, 6.229770824012927, 5.3134800921387715, 5.824305715904762, 6.229770824012927, 6.922918004572872, 5.824305715904762, 6.922918004572872, 6.517452896464707, 6.922918004572872, 6.922918004572872, 6.922918004572872, 6.922918004572872, 6.517452896464707, 6.922918004572872, 6.922918004572872, 6.517452896464707, 6.517452896464707, 6.922918004572872, 6.922918004572872, 6.922918004572872, 6.922918004572872, 6.229770824012927, 6.922918004572872, 6.922918004572872, 6.922918004572872, 6.922918004572872, 5.05111582767128, 6.922918004572872, 6.922918004572872, 4.248769355146344, 6.922918004572872, 6.229770824012927, 6.922918004572872, 6.922918004572872, 6.517452896464707, 5.218169912334447, 6.517452896464707, 6.006627272698717, 6.922918004572872, 2.4570098859182883, 6.922918004572872, 6.006627272698717, 6.517452896464707, 6.922918004572872, 6.922918004572872, 6.006627272698717, 6.517452896464707, 6.922918004572872, 6.922918004572872, 3.7242448870221905, 5.05111582767128, 4.571542747409394, 6.229770824012927, 6.922918004572872, 6.229770824012927, 6.922918004572872, 4.283860674957613, 4.908014984030608, 6.517452896464707, 6.922918004572872, 6.922918004572872, 6.922918004572872, 6.922918004572872, 6.517452896464707, 6.006627272698717, 6.922918004572872, 5.670155036077504, 6.922918004572872, 6.229770824012927, 6.922918004572872, 6.922918004572872, 6.922918004572872, 6.922918004572872, 6.922918004572872, 6.922918004572872, 6.922918004572872, 3.6457732715806954, 6.922918004572872, 6.922918004572872, 6.922918004572872, 5.418840607796598, 6.922918004572872, 6.922918004572872, 6.922918004572872, 6.517452896464707, 6.922918004572872, 6.006627272698717, 5.536623643452981, 6.229770824012927, 6.922918004572872, 6.922918004572872, 5.536623643452981, 6.922918004572872, 6.517452896464707, 6.922918004572872, 6.922918004572872, 6.922918004572872, 6.922918004572872, 6.517452896464707, 6.517452896464707, 5.3134800921387715, 6.922918004572872, 5.824305715904762, 6.922918004572872, 5.05111582767128, 5.05111582767128, 5.824305715904762, 6.922918004572872, 6.229770824012927, 6.922918004572872, 6.517452896464707, 6.922918004572872, 6.922918004572872, 5.824305715904762, 6.006627272698717, 6.922918004572872, 6.922918004572872, 6.922918004572872, 6.517452896464707, 6.922918004572872, 6.922918004572872, 6.922918004572872, 6.922918004572872, 6.922918004572872, 6.922918004572872, 6.006627272698717, 6.922918004572872, 6.922918004572872, 6.922918004572872, 6.229770824012927, 6.922918004572872, 6.922918004572872, 6.229770824012927, 6.517452896464707, 6.922918004572872, 6.922918004572872, 6.922918004572872, 6.922918004572872, 6.922918004572872, 6.922918004572872, 6.922918004572872, 6.922918004572872, 6.517452896464707, 6.006627272698717, 5.418840607796598, 6.922918004572872, 6.922918004572872, 6.922918004572872, 4.843476462893037, 6.006627272698717, 6.922918004572872, 6.922918004572872, 6.922918004572872, 6.922918004572872, 5.3134800921387715, 6.517452896464707, 6.517452896464707, 5.536623643452981, 6.517452896464707, 6.922918004572872, 6.229770824012927, 6.922918004572872, 5.218169912334447, 6.922918004572872, 6.006627272698717, 6.517452896464707, 3.6842395524084917, 6.922918004572872, 6.922918004572872, 6.922918004572872, 6.922918004572872, 3.9784790254064317, 6.922918004572872, 6.922918004572872, 6.922918004572872, 6.006627272698717, 6.922918004572872, 6.922918004572872, 6.229770824012927, 6.922918004572872, 6.922918004572872, 6.922918004572872, 6.922918004572872, 6.517452896464707, 6.517452896464707, 6.922918004572872, 5.218169912334447, 6.922918004572872, 6.517452896464707, 6.922918004572872, 6.922918004572872, 6.922918004572872, 6.922918004572872, 6.517452896464707, 6.922918004572872, 6.922918004572872, 6.922918004572872, 6.922918004572872, 6.517452896464707, 6.922918004572872, 5.824305715904762, 6.006627272698717, 6.517452896464707, 6.922918004572872, 6.517452896464707, 6.922918004572872, 6.517452896464707, 6.922918004572872, 6.922918004572872, 6.922918004572872, 6.922918004572872, 6.922918004572872, 6.922918004572872, 6.922918004572872, 6.922918004572872, 6.922918004572872, 6.922918004572872, 6.922918004572872, 6.922918004572872, 6.922918004572872, 6.517452896464707, 6.922918004572872, 6.517452896464707, 6.922918004572872, 6.922918004572872, 6.922918004572872, 6.922918004572872, 6.922918004572872, 6.922918004572872, 6.517452896464707, 6.922918004572872, 6.006627272698717, 6.922918004572872, 6.922918004572872, 2.7640349212132, 4.182077980647671, 5.3134800921387715, 6.922918004572872, 5.824305715904762, 6.229770824012927, 6.922918004572872, 6.006627272698717, 5.824305715904762, 6.006627272698717, 6.922918004572872, 6.006627272698717, 6.229770824012927, 6.922918004572872, 6.922918004572872, 6.922918004572872, 6.922918004572872, 6.922918004572872, 6.922918004572872, 6.922918004572872, 6.922918004572872, 6.517452896464707, 6.922918004572872, 6.922918004572872, 6.922918004572872, 6.517452896464707, 6.922918004572872, 6.922918004572872, 6.517452896464707, 5.05111582767128, 6.006627272698717, 6.517452896464707, 6.517452896464707, 6.517452896464707, 6.922918004572872, 6.922918004572872, 6.922918004572872, 6.922918004572872, 6.922918004572872, 6.517452896464707, 5.824305715904762, 6.517452896464707, 6.922918004572872, 6.922918004572872, 6.922918004572872, 6.922918004572872, 6.517452896464707, 6.922918004572872, 6.517452896464707, 6.229770824012927, 6.922918004572872, 6.922918004572872, 6.922918004572872, 6.922918004572872, 6.922918004572872, 6.229770824012927, 6.517452896464707, 6.517452896464707, 5.218169912334447, 6.517452896464707, 6.922918004572872, 6.922918004572872, 4.671626205966376, 6.517452896464707, 6.517452896464707, 6.922918004572872, 6.922918004572872, 6.922918004572872, 6.922918004572872, 6.922918004572872, 4.671626205966376, 5.824305715904762, 6.922918004572872, 6.922918004572872, 3.9024931184285094, 6.229770824012927, 5.418840607796598, 4.671626205966376, 6.517452896464707, 6.517452896464707, 6.517452896464707, 6.922918004572872, 4.0325462466767075, 6.922918004572872, 6.922918004572872, 5.670155036077504, 6.517452896464707, 6.229770824012927, 6.922918004572872, 6.922918004572872, 6.922918004572872, 6.922918004572872, 6.922918004572872, 6.922918004572872, 6.517452896464707, 4.060717123643403, 6.922918004572872, 6.922918004572872, 5.670155036077504, 6.229770824012927, 6.922918004572872, 6.229770824012927, 6.922918004572872, 6.517452896464707, 5.3134800921387715, 6.922918004572872, 6.922918004572872, 5.418840607796598, 6.517452896464707, 6.922918004572872, 6.922918004572872, 6.922918004572872, 6.922918004572872, 6.922918004572872, 6.229770824012927, 6.922918004572872, 6.922918004572872, 6.922918004572872, 5.131158535344817, 6.229770824012927, 6.517452896464707, 6.229770824012927, 6.922918004572872, 6.006627272698717, 6.922918004572872, 6.517452896464707, 6.922918004572872, 6.229770824012927, 4.438011354784871, 6.922918004572872, 4.525022731774501, 6.229770824012927, 6.922918004572872, 6.922918004572872, 5.824305715904762, 6.517452896464707, 5.3134800921387715, 6.006627272698717, 4.320228319128488, 6.922918004572872, 6.517452896464707, 5.824305715904762, 5.824305715904762, 6.922918004572872, 5.218169912334447, 5.218169912334447, 4.620332911578826, 6.922918004572872, 6.922918004572872, 6.229770824012927, 4.248769355146344, 6.922918004572872, 6.922918004572872, 6.922918004572872, 6.922918004572872, 5.536623643452981, 5.536623643452981, 6.922918004572872, 4.9770078555175585, 5.536623643452981, 6.229770824012927, 6.922918004572872, 6.922918004572872, 6.922918004572872, 6.517452896464707, 4.843476462893037, 5.05111582767128, 6.922918004572872, 5.536623643452981, 5.824305715904762, 5.824305715904762, 6.922918004572872, 6.922918004572872, 6.922918004572872, 6.922918004572872, 6.922918004572872, 6.229770824012927, 6.922918004572872]\n",
      "{'aailiyah': 0, 'abandoned': 1, 'ability': 2, 'abroad': 3, 'absolutely': 4, 'abstruse': 5, 'abysmal': 6, 'academy': 7, 'accents': 8, 'accessible': 9, 'acclaimed': 10, 'accolades': 11, 'accurate': 12, 'accurately': 13, 'accused': 14, 'achievement': 15, 'achille': 16, 'ackerman': 17, 'act': 18, 'acted': 19, 'acting': 20, 'action': 21, 'actions': 22, 'actor': 23, 'actors': 24, 'actress': 25, 'actresses': 26, 'actually': 27, 'adams': 28, 'adaptation': 29, 'add': 30, 'added': 31, 'addition': 32, 'admins': 33, 'admiration': 34, 'admitted': 35, 'adorable': 36, 'adrift': 37, 'adventure': 38, 'advise': 39, 'aerial': 40, 'aesthetically': 41, 'affected': 42, 'affleck': 43, 'afraid': 44, 'africa': 45, 'afternoon': 46, 'age': 47, 'aged': 48, 'ages': 49}\n"
     ]
    }
   ],
   "source": [
    "def IDF(corpus1,word):\n",
    "    count = 0\n",
    "    for row in corpus1:\n",
    "        if word in row:\n",
    "            count = count+1\n",
    "    return count\n",
    "# FIT Method\n",
    "# Input : set of documents ; Output: word, dimension number pair for each word\n",
    "def fit(corpus1):    \n",
    "    unique_words = set() # at first we will initialize an empty set\n",
    "    IDF_val=[]\n",
    "    # check if its list type or not\n",
    "    if isinstance(corpus1, (list)):\n",
    "        for row in corpus1: # for each review in the dataset\n",
    "            for word in row.split(\" \"): # for each word in the review. #split method converts a string into list of words\n",
    "                if len(word) < 2:\n",
    "                    continue\n",
    "                unique_words.add(word)\n",
    "        unique_words = sorted(list(unique_words))\n",
    "        for word in unique_words:\n",
    "            a=1+len(corpus1)\n",
    "            b=1+IDF(corpus1,word)\n",
    "            val = 1+math.log((a)/(b))\n",
    "            IDF_val.append(val) # Compute IDF scores for each word in list\n",
    "        print(IDF_val)\n",
    "        vocab = {j:i for i,j in enumerate(unique_words[:50])}\n",
    "        return vocab\n",
    "    else:\n",
    "        print(\"you need to pass list of sentance\")\n",
    "vocab = fit(corpus1)\n",
    "print(vocab)"
   ]
  },
  {
   "cell_type": "code",
   "execution_count": 121,
   "metadata": {
    "colab": {},
    "colab_type": "code",
    "id": "1_DJnnR3xLjR"
   },
   "outputs": [],
   "source": [
    "def IDF(corpus1,word):\n",
    "    count = 0\n",
    "    for row in corpus1:\n",
    "        if word in row:\n",
    "            count = count+1\n",
    "    return count\n",
    "\n",
    "def transform(corpus1,vocab):\n",
    "    rows = []\n",
    "    columns = []\n",
    "    values = []\n",
    "    tf_val = []\n",
    "    idf_val = []\n",
    "    for idx, row in enumerate(corpus1): # for each document in the dataset\n",
    "    # it will return a dict type object where key is the word and values is its frequency, {word:frequency}\n",
    "        word_freq = dict(Counter(row.split())) \n",
    "    # for every unique word in the document\n",
    "        for word, freq in word_freq.items():\n",
    "            if len(word) < 2:\n",
    "                continue \n",
    "      # we will check if its there in the vocabulary that we build in fit() function\n",
    "      # dict.get() function will return the values, if the key doesn't exits it will return -1\n",
    "            col_index = vocab.get(word, -1) # retreving the dimension number of a word\n",
    "            if col_index!=-1:\n",
    "        # we are storing the index of the document\n",
    "                rows.append(idx)\n",
    "        # we are storing the dimensions of the word\n",
    "                columns.append(col_index)\n",
    "        # computes TF value for each word, freq of each word / total words in a document\n",
    "        # computes IDF value for each word=log(total no. of docus / no. of times a word is present in a doc via IDF()\n",
    "        # then compute TF * IDF\n",
    "                a=1+len(corpus)\n",
    "                b=1+IDF(corpus,word)\n",
    "                val = (freq/len(row.split()))*(1+math.log((a)/(b)))  \n",
    "                values.append(val)\n",
    "    return csr_matrix((values, (rows,columns)), shape=(len(corpus1),len(vocab)))"
   ]
  },
  {
   "cell_type": "code",
   "execution_count": 122,
   "metadata": {},
   "outputs": [
    {
     "name": "stdout",
     "output_type": "stream",
     "text": [
      "Shape of TF IDF Vector : (746, 50)\n",
      "  (2, 20)\t0.13733883749653159\n",
      "  (10, 36)\t0.8698126374780335\n",
      "  (15, 20)\t0.32617973905426256\n",
      "  (17, 20)\t0.18638842231672145\n",
      "  (19, 4)\t0.005944049914428475\n",
      "  (19, 23)\t0.005944049914428475\n",
      "  (19, 24)\t0.005944049914428475\n",
      "  (19, 27)\t0.005944049914428475\n",
      "  (19, 32)\t0.005944049914428475\n",
      "  (26, 19)\t0.43490631873901675\n",
      "  (28, 27)\t0.23722162840310004\n",
      "  (36, 24)\t0.5218875824868201\n",
      "  (41, 20)\t0.43490631873901675\n",
      "  (49, 20)\t0.1739625274956067\n",
      "  (56, 14)\t0.2007259932641616\n",
      "  (60, 44)\t0.26094379124341005\n",
      "  (62, 39)\t0.5218875824868201\n",
      "  (65, 23)\t0.28993754582601117\n",
      "  (68, 43)\t0.14496877291300558\n",
      "  (72, 24)\t0.5218875824868201\n",
      "  (86, 20)\t0.6523594781085251\n",
      "  (104, 24)\t0.12425894821114764\n",
      "  (134, 4)\t0.024617338796548118\n",
      "  (134, 24)\t0.024617338796548118\n",
      "  (134, 47)\t0.024617338796548118\n",
      "  :\t:\n",
      "  (644, 17)\t0.006333587166102185\n",
      "  (644, 18)\t0.006333587166102185\n",
      "  (644, 20)\t0.02533434866440874\n",
      "  (644, 23)\t0.006333587166102185\n",
      "  (644, 24)\t0.006333587166102185\n",
      "  (644, 49)\t0.006333587166102185\n",
      "  (649, 20)\t0.3727768446334429\n",
      "  (658, 20)\t0.26094379124341005\n",
      "  (660, 4)\t0.3727768446334429\n",
      "  (667, 41)\t0.2007259932641616\n",
      "  (669, 20)\t0.43490631873901675\n",
      "  (673, 23)\t0.3727768446334429\n",
      "  (688, 27)\t0.43490631873901675\n",
      "  (697, 12)\t0.28993754582601117\n",
      "  (706, 2)\t0.43490631873901675\n",
      "  (706, 20)\t0.43490631873901675\n",
      "  (707, 24)\t0.26094379124341005\n",
      "  (710, 47)\t0.26094379124341005\n",
      "  (712, 27)\t0.3727768446334429\n",
      "  (718, 18)\t0.28993754582601117\n",
      "  (722, 20)\t0.28993754582601117\n",
      "  (722, 31)\t0.28993754582601117\n",
      "  (725, 19)\t0.5218875824868201\n",
      "  (726, 26)\t0.28993754582601117\n",
      "  (738, 25)\t0.6523594781085251\n"
     ]
    }
   ],
   "source": [
    "tf_idf_vect = transform(corpus1, vocab)\n",
    "print(\"Shape of TF IDF Vector : \"+str(tf_idf_vect.shape))\n",
    "print(tf_idf_vect)"
   ]
  },
  {
   "cell_type": "code",
   "execution_count": null,
   "metadata": {},
   "outputs": [],
   "source": []
  }
 ],
 "metadata": {
  "colab": {
   "collapsed_sections": [],
   "name": "Assignment_3_Instructions.ipynb",
   "provenance": [],
   "version": "0.3.2"
  },
  "kernelspec": {
   "display_name": "Python 3",
   "language": "python",
   "name": "python3"
  },
  "language_info": {
   "codemirror_mode": {
    "name": "ipython",
    "version": 3
   },
   "file_extension": ".py",
   "mimetype": "text/x-python",
   "name": "python",
   "nbconvert_exporter": "python",
   "pygments_lexer": "ipython3",
   "version": "3.6.8"
  }
 },
 "nbformat": 4,
 "nbformat_minor": 1
}
